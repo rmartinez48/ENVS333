{
 "cells": [
  {
   "cell_type": "code",
   "execution_count": 1,
   "id": "0177f340",
   "metadata": {
    "tags": []
   },
   "outputs": [
    {
     "name": "stdout",
     "output_type": "stream",
     "text": [
      "My module is running\n"
     ]
    }
   ],
   "source": [
    "import converter"
   ]
  },
  {
   "cell_type": "code",
   "execution_count": 2,
   "id": "72941310",
   "metadata": {
    "tags": []
   },
   "outputs": [
    {
     "name": "stdin",
     "output_type": "stream",
     "text": [
      "Enter the temp you want converted to degrees Fahrenheit:  13\n"
     ]
    },
    {
     "name": "stdout",
     "output_type": "stream",
     "text": [
      "<class 'float'>\n"
     ]
    },
    {
     "data": {
      "text/plain": [
       "55.400000000000006"
      ]
     },
     "execution_count": 2,
     "metadata": {},
     "output_type": "execute_result"
    }
   ],
   "source": [
    "converter.c2f()"
   ]
  },
  {
   "cell_type": "code",
   "execution_count": 3,
   "id": "1ec37178-ef71-4186-874d-fba047ccb436",
   "metadata": {
    "tags": []
   },
   "outputs": [
    {
     "data": {
      "text/plain": [
       "-1.1111111111111112"
      ]
     },
     "execution_count": 3,
     "metadata": {},
     "output_type": "execute_result"
    }
   ],
   "source": [
    "converter.f2c(30)"
   ]
  },
  {
   "cell_type": "code",
   "execution_count": 4,
   "id": "3808b696-d1fc-4edc-a475-879d6acfc251",
   "metadata": {
    "tags": []
   },
   "outputs": [
    {
     "data": {
      "text/plain": [
       "(42.212066666666665, -71.11616111111111)"
      ]
     },
     "execution_count": 4,
     "metadata": {},
     "output_type": "execute_result"
    }
   ],
   "source": [
    "converter.dd(42, 12, 43.44, 1, 71, 6, 58.18, -1)"
   ]
  },
  {
   "cell_type": "code",
   "execution_count": 6,
   "id": "e73b94df-fe2d-4d54-a025-dfe31519dd6d",
   "metadata": {
    "tags": []
   },
   "outputs": [
    {
     "data": {
      "text/plain": [
       "72.4203"
      ]
     },
     "execution_count": 6,
     "metadata": {},
     "output_type": "execute_result"
    }
   ],
   "source": [
    "converter.mph2kph(45)"
   ]
  },
  {
   "cell_type": "code",
   "execution_count": 7,
   "id": "3838ce29-d4c4-4095-acc6-f85ba1b1457b",
   "metadata": {
    "tags": []
   },
   "outputs": [
    {
     "data": {
      "text/plain": [
       "27.961773149241303"
      ]
     },
     "execution_count": 7,
     "metadata": {},
     "output_type": "execute_result"
    }
   ],
   "source": [
    "converter.kph2mph(45)"
   ]
  },
  {
   "cell_type": "code",
   "execution_count": 8,
   "id": "7b40ec0f-7b28-4076-a18b-2494ea9ab85a",
   "metadata": {
    "tags": []
   },
   "outputs": [
    {
     "data": {
      "text/plain": [
       "6.8038799999999995"
      ]
     },
     "execution_count": 8,
     "metadata": {},
     "output_type": "execute_result"
    }
   ],
   "source": [
    "converter.lbs2_kg(15)"
   ]
  },
  {
   "cell_type": "code",
   "execution_count": 9,
   "id": "06828cfe-d331-4e76-859c-cb154ada188f",
   "metadata": {
    "tags": []
   },
   "outputs": [
    {
     "data": {
      "text/plain": [
       "33.06936630275666"
      ]
     },
     "execution_count": 9,
     "metadata": {},
     "output_type": "execute_result"
    }
   ],
   "source": [
    "converter.kg2lbs(15)"
   ]
  },
  {
   "cell_type": "code",
   "execution_count": 10,
   "id": "57b0e6f7-bc59-442d-8414-cbffe0e1f247",
   "metadata": {
    "tags": []
   },
   "outputs": [
    {
     "data": {
      "text/plain": [
       "4.572"
      ]
     },
     "execution_count": 10,
     "metadata": {},
     "output_type": "execute_result"
    }
   ],
   "source": [
    "converter.ft2m(15)"
   ]
  },
  {
   "cell_type": "code",
   "execution_count": 11,
   "id": "399f9389-9d8a-469f-a32d-295ba1f39b20",
   "metadata": {
    "tags": []
   },
   "outputs": [
    {
     "data": {
      "text/plain": [
       "49.212598425196845"
      ]
     },
     "execution_count": 11,
     "metadata": {},
     "output_type": "execute_result"
    }
   ],
   "source": [
    "converter.m2ft(15)"
   ]
  },
  {
   "cell_type": "code",
   "execution_count": null,
   "id": "f467c53c-9aaa-47a3-ab8b-eb3ded73bfcd",
   "metadata": {},
   "outputs": [],
   "source": []
  }
 ],
 "metadata": {
  "kernelspec": {
   "display_name": "Python 3 (ipykernel)",
   "language": "python",
   "name": "python3"
  },
  "language_info": {
   "codemirror_mode": {
    "name": "ipython",
    "version": 3
   },
   "file_extension": ".py",
   "mimetype": "text/x-python",
   "name": "python",
   "nbconvert_exporter": "python",
   "pygments_lexer": "ipython3",
   "version": "3.11.4"
  }
 },
 "nbformat": 4,
 "nbformat_minor": 5
}
