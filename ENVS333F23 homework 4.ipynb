{
 "cells": [
  {
   "cell_type": "code",
   "execution_count": 1,
   "id": "a58ade54-02b4-44ec-8a68-89354ced68a5",
   "metadata": {
    "tags": []
   },
   "outputs": [
    {
     "data": {
      "text/plain": [
       "16"
      ]
     },
     "execution_count": 1,
     "metadata": {},
     "output_type": "execute_result"
    }
   ],
   "source": [
    "4*4"
   ]
  },
  {
   "cell_type": "code",
   "execution_count": 2,
   "id": "5f68a17c-e08f-4589-834a-b5de82c489a2",
   "metadata": {
    "tags": []
   },
   "outputs": [
    {
     "data": {
      "text/plain": [
       "256"
      ]
     },
     "execution_count": 2,
     "metadata": {},
     "output_type": "execute_result"
    }
   ],
   "source": [
    "4**4"
   ]
  },
  {
   "cell_type": "code",
   "execution_count": 3,
   "id": "50561b89-a58a-46e9-a44e-183ca7323e60",
   "metadata": {
    "tags": []
   },
   "outputs": [
    {
     "data": {
      "text/plain": [
       "16"
      ]
     },
     "execution_count": 3,
     "metadata": {},
     "output_type": "execute_result"
    }
   ],
   "source": [
    "x = 4*4\n",
    "x"
   ]
  },
  {
   "cell_type": "code",
   "execution_count": 4,
   "id": "24dd49bc-244f-42bb-bba8-02180529ffde",
   "metadata": {
    "tags": []
   },
   "outputs": [
    {
     "data": {
      "text/plain": [
       "16"
      ]
     },
     "execution_count": 4,
     "metadata": {},
     "output_type": "execute_result"
    }
   ],
   "source": [
    "x"
   ]
  },
  {
   "cell_type": "code",
   "execution_count": 5,
   "id": "4a77aad3-61cc-4509-99ec-2a9b9a193626",
   "metadata": {
    "tags": []
   },
   "outputs": [
    {
     "data": {
      "text/plain": [
       "int"
      ]
     },
     "execution_count": 5,
     "metadata": {},
     "output_type": "execute_result"
    }
   ],
   "source": [
    "type(x)"
   ]
  },
  {
   "cell_type": "code",
   "execution_count": 6,
   "id": "597d200c-b89c-4a77-b0ec-c396b2028ae6",
   "metadata": {
    "tags": []
   },
   "outputs": [],
   "source": [
    "y = True"
   ]
  },
  {
   "cell_type": "code",
   "execution_count": 7,
   "id": "886e40a4-985d-46f5-b43f-206a9d4d1ec2",
   "metadata": {
    "tags": []
   },
   "outputs": [
    {
     "data": {
      "text/plain": [
       "bool"
      ]
     },
     "execution_count": 7,
     "metadata": {},
     "output_type": "execute_result"
    }
   ],
   "source": [
    "type(y)"
   ]
  },
  {
   "cell_type": "code",
   "execution_count": 8,
   "id": "2c6aad37-6f5d-49b6-8bbf-35a289df38ab",
   "metadata": {
    "tags": []
   },
   "outputs": [
    {
     "data": {
      "text/plain": [
       "float"
      ]
     },
     "execution_count": 8,
     "metadata": {},
     "output_type": "execute_result"
    }
   ],
   "source": [
    "y2 = 2.01\n",
    "type(y2)"
   ]
  },
  {
   "cell_type": "code",
   "execution_count": 9,
   "id": "9e305826-c6b4-4074-806d-76ff0cfba318",
   "metadata": {
    "tags": []
   },
   "outputs": [
    {
     "data": {
      "text/plain": [
       "str"
      ]
     },
     "execution_count": 9,
     "metadata": {},
     "output_type": "execute_result"
    }
   ],
   "source": [
    "y3 = 'True'\n",
    "type(y3)"
   ]
  },
  {
   "cell_type": "markdown",
   "id": "e6565a04-966a-4791-85bc-92e471adc317",
   "metadata": {},
   "source": [
    "# Markdown Header"
   ]
  },
  {
   "cell_type": "markdown",
   "id": "176e16d4-0a37-406c-9e42-20c7476092f3",
   "metadata": {},
   "source": [
    "## Subheader"
   ]
  },
  {
   "cell_type": "markdown",
   "id": "7d3770ec-2182-4220-9d07-4313f985a014",
   "metadata": {
    "tags": []
   },
   "source": [
    "### Subsubheader"
   ]
  },
  {
   "cell_type": "markdown",
   "id": "4244d1d8-f622-4c1c-a860-d75f8022ed5a",
   "metadata": {},
   "source": [
    "# Data Structures"
   ]
  },
  {
   "cell_type": "markdown",
   "id": "520a6703-6422-4f27-bff9-dcb1c19fa58d",
   "metadata": {},
   "source": [
    "# Lists"
   ]
  },
  {
   "cell_type": "code",
   "execution_count": 10,
   "id": "0a6e9095-3307-421d-bc59-e420ffc1f7dc",
   "metadata": {
    "tags": []
   },
   "outputs": [],
   "source": [
    "mylist = [1,2,3,4,5,6]\n",
    "mylist2 = [5,6,7,8,9,10]\n",
    "mylist3 = mylist + mylist2"
   ]
  },
  {
   "cell_type": "code",
   "execution_count": 11,
   "id": "64c65593-5c30-40b4-ba30-021cd4ef5adc",
   "metadata": {
    "tags": []
   },
   "outputs": [
    {
     "data": {
      "text/plain": [
       "[1, 2, 3, 4, 5, 6, 5, 6, 7, 8, 9, 10]"
      ]
     },
     "execution_count": 11,
     "metadata": {},
     "output_type": "execute_result"
    }
   ],
   "source": [
    "mylist3 "
   ]
  },
  {
   "cell_type": "code",
   "execution_count": 12,
   "id": "36ab0e86-afcb-4436-8af6-7dda2eed51d0",
   "metadata": {
    "tags": []
   },
   "outputs": [],
   "source": [
    "mylist3 = [1, True, 2.32,'Dave' , \"Framingham\"]"
   ]
  },
  {
   "cell_type": "code",
   "execution_count": 13,
   "id": "e5af4b23-d4ca-4187-a86c-f9529ff6399e",
   "metadata": {
    "tags": []
   },
   "outputs": [
    {
     "data": {
      "text/plain": [
       "'Framingham'"
      ]
     },
     "execution_count": 13,
     "metadata": {},
     "output_type": "execute_result"
    }
   ],
   "source": [
    "mylist3[-1]"
   ]
  },
  {
   "cell_type": "code",
   "execution_count": 14,
   "id": "5c4ecb4e-942a-4690-923d-2c741c409ca6",
   "metadata": {
    "tags": []
   },
   "outputs": [
    {
     "data": {
      "text/plain": [
       "'Dave'"
      ]
     },
     "execution_count": 14,
     "metadata": {},
     "output_type": "execute_result"
    }
   ],
   "source": [
    "mylist3[3]"
   ]
  },
  {
   "cell_type": "code",
   "execution_count": 15,
   "id": "aaf6b44e-0743-4c3f-bab3-fb20157d0ab8",
   "metadata": {
    "tags": []
   },
   "outputs": [],
   "source": [
    "mylist4 = [1, [12,34,56], \"true\" , True]"
   ]
  },
  {
   "cell_type": "code",
   "execution_count": 16,
   "id": "772f13ba-50fb-4ed3-892d-9640379df999",
   "metadata": {
    "tags": []
   },
   "outputs": [
    {
     "data": {
      "text/plain": [
       "12"
      ]
     },
     "execution_count": 16,
     "metadata": {},
     "output_type": "execute_result"
    }
   ],
   "source": [
    "mylist4[1][0]"
   ]
  },
  {
   "cell_type": "markdown",
   "id": "df3694a2-6ea1-49fc-b2eb-3a47c782c47a",
   "metadata": {},
   "source": [
    "## Tuples"
   ]
  },
  {
   "cell_type": "code",
   "execution_count": 17,
   "id": "47aaa9a4-cee6-4d7e-83b9-147e3e5895a0",
   "metadata": {
    "tags": []
   },
   "outputs": [
    {
     "data": {
      "text/plain": [
       "1"
      ]
     },
     "execution_count": 17,
     "metadata": {},
     "output_type": "execute_result"
    }
   ],
   "source": [
    "mytuple = (1,2,3,4,5,6)\n",
    "type(mytuple)\n",
    "mytuple[0]"
   ]
  },
  {
   "cell_type": "markdown",
   "id": "c0bf5332-29dd-48ca-8060-74032f3ca480",
   "metadata": {},
   "source": [
    "## Dictionaries"
   ]
  },
  {
   "cell_type": "code",
   "execution_count": 18,
   "id": "22bb9633-c3ca-497c-b551-84663fec2b3c",
   "metadata": {
    "tags": []
   },
   "outputs": [],
   "source": [
    "mydict = {'name' : 'Dave', 'Job' : 'Professor'}"
   ]
  },
  {
   "cell_type": "code",
   "execution_count": 19,
   "id": "ff38e08d-67ed-491c-a8ab-9bbc5fdc8fa4",
   "metadata": {
    "tags": []
   },
   "outputs": [
    {
     "data": {
      "text/plain": [
       "'Dave'"
      ]
     },
     "execution_count": 19,
     "metadata": {},
     "output_type": "execute_result"
    }
   ],
   "source": [
    "mydict['name']"
   ]
  },
  {
   "cell_type": "markdown",
   "id": "bb7c1aae-6853-4ae2-ae44-6a0cd021d440",
   "metadata": {},
   "source": [
    "## Functions"
   ]
  },
  {
   "cell_type": "code",
   "execution_count": 20,
   "id": "9dca4bcc-400f-4d0c-b8b4-8cb370b78918",
   "metadata": {
    "tags": []
   },
   "outputs": [],
   "source": [
    "def myfunction (age):\n",
    "    newage = age +10\n",
    "    return newage"
   ]
  },
  {
   "cell_type": "code",
   "execution_count": 21,
   "id": "459215a2-c434-4e3e-914c-8630e256ff63",
   "metadata": {
    "tags": []
   },
   "outputs": [
    {
     "data": {
      "text/plain": [
       "60"
      ]
     },
     "execution_count": 21,
     "metadata": {},
     "output_type": "execute_result"
    }
   ],
   "source": [
    "myfunction(50)"
   ]
  },
  {
   "cell_type": "markdown",
   "id": "54f5001e-8743-4add-9289-12d3f473312d",
   "metadata": {},
   "source": [
    "###### latdirection * (latdegree +(latminute + latsecond/60))"
   ]
  },
  {
   "cell_type": "code",
   "execution_count": 22,
   "id": "409980b6-bec6-4bb2-be88-d4a64dc40a2e",
   "metadata": {
    "tags": []
   },
   "outputs": [],
   "source": [
    "def dd(latdegree, latminute, latsecond, latdirection , londegree, lonminute, lonsecond, londirection):\n",
    "    latdd = latdirection * (latdegree + (latminute + latsecond/60.)/60.)\n",
    "    londd = londirection * (londegree + (lonminute + lonsecond/60.)/60.)\n",
    "    return latdd, londd"
   ]
  },
  {
   "cell_type": "code",
   "execution_count": 25,
   "id": "10c6966b-744e-4db4-b68f-ac8db7360ea7",
   "metadata": {
    "tags": []
   },
   "outputs": [
    {
     "data": {
      "text/plain": [
       "(42.218469444444445, -71.11789722222223)"
      ]
     },
     "execution_count": 25,
     "metadata": {},
     "output_type": "execute_result"
    }
   ],
   "source": [
    "dd(42, 13, 6.49, 1, 71, 7, 4.43, -1)"
   ]
  },
  {
   "cell_type": "code",
   "execution_count": 26,
   "id": "01ec75b2-93aa-43dd-8f75-585011481763",
   "metadata": {},
   "outputs": [
    {
     "data": {
      "text/plain": [
       "(42.21698888888889, -71.11949166666666)"
      ]
     },
     "execution_count": 26,
     "metadata": {},
     "output_type": "execute_result"
    }
   ],
   "source": [
    "dd(42, 13, 1.16, 1, 71, 7, 10.17, -1)"
   ]
  },
  {
   "cell_type": "code",
   "execution_count": 27,
   "id": "85fbe287-c9ce-40aa-92bd-8743f6bad659",
   "metadata": {
    "tags": []
   },
   "outputs": [
    {
     "data": {
      "text/plain": [
       "(42.21599166666667, -71.11974166666667)"
      ]
     },
     "execution_count": 27,
     "metadata": {},
     "output_type": "execute_result"
    }
   ],
   "source": [
    "dd(42, 12, 57.57, 1, 71, 7, 11.07, -1)"
   ]
  },
  {
   "cell_type": "code",
   "execution_count": 28,
   "id": "d97d1443-94ca-472a-9669-abe472a21392",
   "metadata": {
    "tags": []
   },
   "outputs": [
    {
     "data": {
      "text/plain": [
       "(42.2147, -71.11979166666667)"
      ]
     },
     "execution_count": 28,
     "metadata": {},
     "output_type": "execute_result"
    }
   ],
   "source": [
    "dd(42, 12, 52.92, 1, 71, 7, 11.25, -1)"
   ]
  },
  {
   "cell_type": "code",
   "execution_count": 29,
   "id": "3c6f59ba-e14c-403f-a53f-ca2c1a5bd745",
   "metadata": {
    "tags": []
   },
   "outputs": [
    {
     "data": {
      "text/plain": [
       "(42.217863888888886, -71.11626666666666)"
      ]
     },
     "execution_count": 29,
     "metadata": {},
     "output_type": "execute_result"
    }
   ],
   "source": [
    "dd(42, 13, 4.31, 1, 71, 6, 58.56, -1)"
   ]
  },
  {
   "cell_type": "code",
   "execution_count": 30,
   "id": "4513d790-f430-409f-bd6c-bb6a84a82358",
   "metadata": {
    "tags": []
   },
   "outputs": [
    {
     "data": {
      "text/plain": [
       "(42.21547777777778, -71.11490277777777)"
      ]
     },
     "execution_count": 30,
     "metadata": {},
     "output_type": "execute_result"
    }
   ],
   "source": [
    "dd(42, 12, 55.72, 1, 71, 6, 53.65, -1)"
   ]
  },
  {
   "cell_type": "code",
   "execution_count": 31,
   "id": "2d8550d0-2e9b-4aea-ae20-7d3b46953978",
   "metadata": {
    "tags": []
   },
   "outputs": [
    {
     "data": {
      "text/plain": [
       "(42.21308888888889, -71.11430833333333)"
      ]
     },
     "execution_count": 31,
     "metadata": {},
     "output_type": "execute_result"
    }
   ],
   "source": [
    "dd(42, 12, 47.12, 1, 71, 6, 51.51, -1)"
   ]
  },
  {
   "cell_type": "code",
   "execution_count": 32,
   "id": "e5e3db0d-0159-463b-8e25-30fc6c1bd212",
   "metadata": {
    "tags": []
   },
   "outputs": [
    {
     "data": {
      "text/plain": [
       "(42.212066666666665, -71.11616111111111)"
      ]
     },
     "execution_count": 32,
     "metadata": {},
     "output_type": "execute_result"
    }
   ],
   "source": [
    "dd(42, 12, 43.44, 1, 71, 6, 58.18, -1)"
   ]
  },
  {
   "cell_type": "code",
   "execution_count": null,
   "id": "35dba06a-0047-4e3d-a039-92d1015b4eb0",
   "metadata": {},
   "outputs": [],
   "source": []
  }
 ],
 "metadata": {
  "kernelspec": {
   "display_name": "Python 3 (ipykernel)",
   "language": "python",
   "name": "python3"
  },
  "language_info": {
   "codemirror_mode": {
    "name": "ipython",
    "version": 3
   },
   "file_extension": ".py",
   "mimetype": "text/x-python",
   "name": "python",
   "nbconvert_exporter": "python",
   "pygments_lexer": "ipython3",
   "version": "3.11.4"
  }
 },
 "nbformat": 4,
 "nbformat_minor": 5
}
